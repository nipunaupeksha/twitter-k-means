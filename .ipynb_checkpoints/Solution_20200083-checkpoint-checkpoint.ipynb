{
 "cells": [
  {
   "cell_type": "markdown",
   "metadata": {},
   "source": [
    "### Text Analytics Coursework - MSc in Big Data Analytics\n",
    "#### July 2020\n",
    "\n",
    "###### Name: Sohani Wewelwala\n",
    "###### IIT ID: 20200083\n",
    "###### RGU ID: 1915391"
   ]
  },
  {
   "cell_type": "markdown",
   "metadata": {},
   "source": [
    "### Answer (a)\n",
    "The below code will extract data from 5 news sites, remove duplicates from URLs and write them to a seperate file after extracting title and body until 2500 or more extries get collected."
   ]
  },
  {
   "cell_type": "code",
   "execution_count": 2,
   "metadata": {},
   "outputs": [],
   "source": [
    "from bs4 import BeautifulSoup\n",
    "import requests \n",
    "import tweepy\n",
    "import csv\n",
    "import re\n",
    "\n",
    "CONSUMER_KEY = '4mQY7cj0MddMpKzRbLfmVslKo'\n",
    "CONSUMER_SECRET = 'nYZcIHBYrsrZY81ZKNXDQfGLalmDALuJYWH79TjWPQUsmcasSH'\n",
    "AUTH_TOKEN = '324972802-FjaKgQkOcN6zxzudxrfWC01qfP54n2vUwaKNc6iF'\n",
    "AUTH_TOKEN_SECRET = 'VMg1wamFEkRfzbooJlGJV05HASePgYzXRgUCoiDzRaGza'\n",
    "\n",
    "auth = tweepy.OAuthHandler(CONSUMER_KEY, CONSUMER_SECRET)\n",
    "auth.set_access_token(AUTH_TOKEN, AUTH_TOKEN_SECRET)\n",
    "\n",
    "# Create API object\n",
    "twitter_api = tweepy.API(auth)\n",
    "\n",
    "screen_Name_List = [\"BBC\", \"CNN\", \"BBCWORLD\", \"BBCBREAKING\", \"BBCSPORT\"]\n",
    "tweetCount = 10\n",
    "url_list = []\n",
    "url_List_Without_Duplicates = set()\n",
    "\n",
    "def getUrls(screen_Name_List):\n",
    "    for screen_Name in screen_Name_List:\n",
    "        tweet_list = twitter_api.user_timeline(id=screen_Name, count=tweetCount,tweet_mode=\"extended\")\n",
    "            \n",
    "        for status in tweet_list:\n",
    "            status_urls = status.entities['urls']\n",
    "            for url in status_urls:\n",
    "                expanded_Url = url['expanded_url']\n",
    "                if (\"twitter.com\" not in expanded_Url and \"youtube.com\" not in expanded_Url and \"youtu.be\" not in expanded_Url):\n",
    "                    url_list.append(expanded_Url)\n",
    "                    url_List_Without_Duplicates.add(expanded_Url)\n",
    "    return url_List_Without_Duplicates\n",
    "                    \n",
    "url_List = getUrls(screen_Name_List)\n",
    "\n",
    "def writeFilesToTestCsv(title, body, count):\n",
    "    with open('ExtractedContentTest.csv', 'a', encoding=\"utf-8\",newline='') as file:\n",
    "        fieldnames = ['Title', 'Body']\n",
    "        writer = csv.DictWriter(file, fieldnames=fieldnames)\n",
    "        if count==0:\n",
    "            writer.writeheader()\n",
    "        writer.writerow({\"Title\":title.text,\"Body\":body})\n",
    "    file.close()\n",
    "\n",
    "count = 1\n",
    "def extractContent(url_List):\n",
    "    global count\n",
    "    for url in url_List:\n",
    "        try: \n",
    "            html = requests.get(url).content\n",
    "            soup = BeautifulSoup(html, 'html.parser')\n",
    "            body = soup.find('body')\n",
    "            title = soup.find('title')\n",
    "            writeFilesToTestCsv(title,body,count)\n",
    "        except:\n",
    "            print(\"Couldn't extract from URL\"+ url) \n",
    "        count = 1\n",
    "        \n",
    "extractContent(url_List)"
   ]
  },
  {
   "cell_type": "code",
   "execution_count": 104,
   "metadata": {},
   "outputs": [
    {
     "name": "stdout",
     "output_type": "stream",
     "text": [
      "No. of entries before removing duplicates: 3437\n",
      "No. of entries after removing duplicates: 1699\n"
     ]
    }
   ],
   "source": [
    "titleList = []\n",
    "titleset = set()\n",
    "content_without_duplicates = []\n",
    "content_with_duplicates = []\n",
    "\n",
    "def readDataFromTestCsv():\n",
    "    # read the existing urls from file\n",
    "    with open('ExtractedContentTest.csv', 'r',encoding=\"utf-8\",newline='') as file:\n",
    "        reader = csv.reader(file)\n",
    "        for row in reader:\n",
    "            content_with_duplicates.append([row[0],row[1]])\n",
    "            titleset.add(row[0])\n",
    "            if row[0] not in titleList:\n",
    "                title = row[0]\n",
    "                body = row[1]\n",
    "                titleList.append(title) \n",
    "                content_without_duplicates.append([title,body])\n",
    "    return content_without_duplicates\n",
    "\n",
    "def writeFilesToCsv(content_without_duplicates):\n",
    "    with open('ExtractedContent.csv', 'a', encoding=\"utf-8\",newline='') as file:\n",
    "        fieldnames = ['Title', 'Body']\n",
    "        writer = csv.DictWriter(file, fieldnames=fieldnames)\n",
    "        writer.writeheader()\n",
    "        for content in content_without_duplicates:\n",
    "            writer.writerow({\"Title\":content[0],\"Body\":content[1]})\n",
    "    file.close()\n",
    "                                      \n",
    "body_without_duplicates = readDataFromTestCsv()\n",
    "body_without_duplicates.pop(0)\n",
    "writeFilesToCsv(body_without_duplicates)\n",
    "\n",
    "print(\"No. of entries before removing duplicates:\",len(content_with_duplicates))\n",
    "print(\"No. of entries after removing duplicates:\",len(body_without_duplicates))"
   ]
  },
  {
   "cell_type": "markdown",
   "metadata": {},
   "source": [
    "After getting 3437 entries, duplicates were removed by checking title and the extracted title and body were written into a seperate CSV file"
   ]
  },
  {
   "cell_type": "markdown",
   "metadata": {},
   "source": [
    "### Answer (b)\n",
    "\n",
    "This code will remove markups, punctuations, numbers, expand common English contractions, tokenize them and convert the tokenized text into lowercase . "
   ]
  },
  {
   "cell_type": "code",
   "execution_count": 303,
   "metadata": {},
   "outputs": [],
   "source": [
    "import pandas as pd\n",
    "import numpy as np\n",
    "from bs4 import Comment\n",
    "import nltk\n",
    "from nltk.tokenize import RegexpTokenizer\n",
    "from contractions import CONTRACTION_MAP\n",
    "from bs4 import BeautifulSoup\n",
    "import re\n",
    "import itertools\n",
    "\n",
    "extractedText = pd.read_csv('ExtractedContent.csv', delimiter=',')\n",
    "\n",
    "ContentList = extractedText.to_numpy()\n",
    "\n",
    "def getParagraph(data):\n",
    "    if data.parent.name in ['p']:\n",
    "        return True\n",
    "    return False\n",
    "\n",
    "# Remove the html tags and it will remove the comments and additonal tags\n",
    "def dataWithoutMarkup(data):\n",
    "    if data.parent.name in ['style','a', 'img', '[document]', 'head', 'title', 'meta', 'Start', 'Post', 'div', 'span']:\n",
    "        return False\n",
    "    elif re.match('<!--.*-->', str(data.encode('utf-8'))):\n",
    "        return False\n",
    "    return True\n",
    "\n",
    "# Remove punctuations\n",
    "def removePunctuationsAndNumbers(char):\n",
    "  \n",
    "    if (char >= u\"\\u0021\") and (char <= u\"\\u002F\") and (char != u\"\\u002E\"):    # from ! to / except . \n",
    "        return False\n",
    "    if (char >= u\"\\u005B\") and (char <= u\"\\u0060\"):    # from [ to `\n",
    "        return False\n",
    "    if (char >= u\"\\u007B\") and (char <= u\"\\u007E\"):    # from { to ~\n",
    "        return False\n",
    "    if (char >= u\"\\u003A\") and (char <= u\"\\u0040\"):    # from : to @\n",
    "        return False\n",
    "    if (char >= u\"\\u0030\") and (char <= u\"\\u0039\"):    # Numbers from 0 to 9\n",
    "        return False\n",
    "    if (char >= u\"\\u00A9\"): #©  copyrights\n",
    "        return False \n",
    "    if (char >= u\"\\u2122\"): #™ Trade mark\n",
    "        return False \n",
    "    else:\n",
    "        return True\n",
    "    \n",
    "tokenizedWordList = [] \n",
    "def tokenizewords(data):\n",
    "    nltk_Tokenizer= nltk.word_tokenize\n",
    "    tokenize_words = nltk_Tokenizer(data)\n",
    "    return tokenize_words\n",
    "        \n",
    "def totalWords(dataset):\n",
    "    total_words = 0\n",
    "    for data in dataset:\n",
    "        lenght = len(data)\n",
    "        total_words += lenght\n",
    "    return total_words\n",
    " \n",
    "def uniqueWords(dataset):\n",
    "    return len(Counter(list(itertools.chain.from_iterable(dataset))))\n",
    "\n",
    "def expand_contractions(text, contraction_mapping):\n",
    "    \n",
    "    contractions_pattern = re.compile('({})'.format('|'.join(contraction_mapping.keys())), \n",
    "                                      flags=re.IGNORECASE|re.DOTALL)\n",
    "    def expand_match(contraction):\n",
    "        match = contraction.group(0)\n",
    "        first_char = match[0]\n",
    "        expanded_contraction = contraction_mapping.get(match)\\\n",
    "                                if contraction_mapping.get(match)\\\n",
    "                                else contraction_mapping.get(match.lower())                       \n",
    "        expanded_contraction = first_char+expanded_contraction[1:]\n",
    "        return expanded_contraction\n",
    "        \n",
    "    expanded_text = contractions_pattern.sub(expand_match, text)\n",
    "    expanded_text = re.sub(\"'\", \"\", expanded_text)\n",
    "    return expanded_text"
   ]
  },
  {
   "cell_type": "code",
   "execution_count": 319,
   "metadata": {},
   "outputs": [
    {
     "name": "stdout",
     "output_type": "stream",
     "text": [
      "Total number of words in the dataset: 693125\n",
      "Total number of unique words in the dataset: 28757\n"
     ]
    }
   ],
   "source": [
    "listWithoutMarkup = []\n",
    "listWithoutPunctuations = []\n",
    "lowerCaseList = []\n",
    "\n",
    "for content in ContentList:\n",
    "    bodyContent = content[1]\n",
    "    soup = BeautifulSoup(bodyContent, \"html.parser\")\n",
    "    for element in soup(text=lambda text: isinstance(text, Comment)):\n",
    "        element.extract()\n",
    "    soup.get_text(strip=True)\n",
    "    dataWithMarkUp = soup.findAll(text=True)\n",
    "    # Get paragraphs in the extracted text\n",
    "    get_paragraph = filter(getParagraph, dataWithMarkUp)\n",
    "    #Remove Markup\n",
    "    markup_removed = filter(dataWithoutMarkup, get_paragraph)\n",
    "    markup_removed = ''.join(markup_removed)\n",
    "    \n",
    "    # Remove common escape sequences\n",
    "    markup_removed = re.sub(r'[\\t\\r\\n]', ' ', markup_removed)\n",
    "    listWithoutMarkup.append(markup_removed)\n",
    "    expanded_text = expand_contractions(markup_removed, CONTRACTION_MAP)\n",
    "    # Remove Punctuations\n",
    "    textWithoutPunctuations = filter(removePunctuationsAndNumbers, expanded_text)\n",
    "    textWithoutPunctuations = ''.join(textWithoutPunctuations)\n",
    "    listWithoutPunctuations.append(textWithoutPunctuations)\n",
    "    #Tokenize text   \n",
    "    tokenizeWords = tokenizewords(textWithoutPunctuations) \n",
    "    # remove full stops\n",
    "    words_without_fullstop = [word for word in tokenizeWords if word.isalpha()]\n",
    "    tokenizedWordList.append(words_without_fullstop)\n",
    "    #Covert to lower case\n",
    "    lowerCaseWords = [word.lower() for word in words_without_fullstop]\n",
    "    lowerCaseList.append(lowerCaseWords)\n",
    "    \n",
    "print(\"Total number of words in the dataset:\", totalWords(lowerCaseList))\n",
    "print(\"Total number of unique words in the dataset:\", uniqueWords(lowerCaseList))"
   ]
  },
  {
   "cell_type": "markdown",
   "metadata": {},
   "source": [
    "Shown above are the length of the cleaned dataset and the length of the cleaned unique dataset"
   ]
  },
  {
   "cell_type": "markdown",
   "metadata": {},
   "source": [
    "### Answer (c)\n",
    "\n",
    "To reduce the noice further, the below code will remove stop words and lematize the words. Finally data is visualized in a histogram for different sentence lengths. "
   ]
  },
  {
   "cell_type": "code",
   "execution_count": 324,
   "metadata": {},
   "outputs": [
    {
     "name": "stdout",
     "output_type": "stream",
     "text": [
      "Total number of words before stop words removed: 693125\n",
      "Total number of Unique words before stop words removed: 28757\n",
      "Max sentence length before stop words removed :  6043\n",
      "Min sentence length before stop words removed :  2\n",
      "\n",
      "Total number of words After stop words removed: 383677\n",
      "Total number of Unique words After stop words removed: 28621\n",
      "Max sentence length After stop words removed :  3501\n",
      "Min sentence length After stop words removed :  1\n",
      "\n"
     ]
    }
   ],
   "source": [
    "from nltk.corpus import stopwords\n",
    "\n",
    "def removeStopwords(dataset):\n",
    "    stop_words = set(stopwords.words('english')) \n",
    "    filtered_sentence = [word for word in dataset if word not in stop_words]\n",
    "    return filtered_sentence\n",
    "\n",
    "def minDocumentSize(dataset):    \n",
    "    return min(len(data) for data in dataset)\n",
    "\n",
    "def maxDocumentSize(dataset):\n",
    "    return max(len(data) for data in dataset) \n",
    "\n",
    "print(\"Total number of words before stop words removed:\", totalWords(lowerCaseList))\n",
    "print(\"Total number of Unique words before stop words removed:\", uniqueWords(lowerCaseList))\n",
    "print(\"Max sentence length before stop words removed : \",maxDocumentSize(lowerCaseList))\n",
    "print(\"Min sentence length before stop words removed : \",minDocumentSize(lowerCaseList))\n",
    "print()\n",
    "# Remove stop words\n",
    "stopWordsRemoved = [removeStopwords(datalist) for datalist in lowerCaseList]\n",
    "\n",
    "print(\"Total number of words After stop words removed:\", totalWords(stopWordsRemoved))\n",
    "print(\"Total number of Unique words After stop words removed:\", uniqueWords(stopWordsRemoved))\n",
    "print(\"Max sentence length After stop words removed : \",maxDocumentSize(stopWordsRemoved))\n",
    "print(\"Min sentence length After stop words removed : \",minDocumentSize(stopWordsRemoved))\n",
    "print()"
   ]
  },
  {
   "cell_type": "code",
   "execution_count": 325,
   "metadata": {},
   "outputs": [
    {
     "name": "stdout",
     "output_type": "stream",
     "text": [
      "Total number of words After Lematization: 383677\n",
      "Total number of Unique words After Lematization: 24297\n",
      "Max sentence length after lematization :  3501\n",
      "Min sentence length after lematization :  1\n"
     ]
    }
   ],
   "source": [
    "from nltk.corpus import wordnet as wn\n",
    "from nltk.stem import WordNetLemmatizer\n",
    "\n",
    "wnl = WordNetLemmatizer()\n",
    "# Annotate text tokens with POS tags\n",
    "def pos_tag_text(tokens):\n",
    "    \n",
    "    def penn_to_wn_tags(pos_tag):\n",
    "        if pos_tag.startswith('J'):\n",
    "            return wn.ADJ\n",
    "        elif pos_tag.startswith('V'):\n",
    "            return wn.VERB\n",
    "        elif pos_tag.startswith('N'):\n",
    "            return wn.NOUN\n",
    "        elif pos_tag.startswith('R'):\n",
    "            return wn.ADV\n",
    "        else:\n",
    "            return None\n",
    "        \n",
    "    tagged_text = nltk.pos_tag(tokens)\n",
    "\n",
    "    tagged_text_set = [(word.lower(), penn_to_wn_tags(pos_tag))\n",
    "                         for word, pos_tag in\n",
    "                         tagged_text]\n",
    "    return tagged_text_set\n",
    "        \n",
    "# lemmatize text based on POS tags    \n",
    "def lemmatize_text(tokens):\n",
    "    \n",
    "    pos_tagged_text = pos_tag_text(tokens)\n",
    "    lemmatized_tokens = [wnl.lemmatize(word, pos_tag) if pos_tag\n",
    "                         else word                     \n",
    "                         for word, pos_tag in pos_tagged_text]\n",
    "    return lemmatized_tokens\n",
    "\n",
    "lematize_words = [lemmatize_text(list_to_stem) for list_to_stem in stopWordsRemoved]\n",
    "\n",
    "print(\"Total number of words After Lematization:\", totalWords(lematize_words))\n",
    "print(\"Total number of Unique words After Lematization:\", uniqueWords(lematize_words))\n",
    "print(\"Max sentence length after lematization : \",maxDocumentSize(lematize_words))\n",
    "print(\"Min sentence length after lematization : \",minDocumentSize(lematize_words))"
   ]
  },
  {
   "cell_type": "markdown",
   "metadata": {},
   "source": [
    "It is clear that total number of words, total number of unique words, maximum length of the sentences and minimum length of the sentence have reduced after removing stop words. \n",
    "\n",
    "After lematization the total number of dataset remains the same since lematization does not affect the word count. But total number of unique word count reduced since there is a change of words after lematization. Max sentence length and min sentence length remains the same since lematization does not affect the length of the sentences."
   ]
  },
  {
   "cell_type": "code",
   "execution_count": 326,
   "metadata": {},
   "outputs": [
    {
     "data": {
      "image/png": "[encoded data removed]",
      "text/plain": [
       "<Figure size 432x288 with 1 Axes>"
      ]
     },
     "metadata": {
      "needs_background": "light"
     },
     "output_type": "display_data"
    }
   ],
   "source": [
    "import matplotlib.pyplot as plt\n",
    "\n",
    "sentanceLengths = [len(words) for words in lematize_words]\n",
    "b = np.arange(0, len(sentanceLengths), 20).tolist()\n",
    "\n",
    "plt.hist(sentanceLengths, bins=b)\n",
    "plt.title('Different Sentance length comparison',fontsize=15)\n",
    "plt.ylabel('Sentance length')\n",
    "plt.xlabel('No of News Articles')\n",
    "plt.show()\n"
   ]
  },
  {
   "cell_type": "markdown",
   "metadata": {},
   "source": [
    "Shown above is a Visualization of data for different sentence lengths using a histogram"
   ]
  },
  {
   "cell_type": "markdown",
   "metadata": {},
   "source": [
    "### Answer (d)\n",
    "\n",
    "The below code will create a bag of words from the above article dataset and categorize articles into cluster by using elbow method and silhouette coeficient to decide the best number of clusters."
   ]
  },
  {
   "cell_type": "code",
   "execution_count": 327,
   "metadata": {},
   "outputs": [],
   "source": [
    "from sklearn.feature_extraction.text import CountVectorizer\n",
    "\n",
    "def bagOfWords(dataset, vectorizer):\n",
    "    string_words_list = []\n",
    "    joined_String_list = [' '.join(words) for words in dataset]\n",
    "    bagOfWords = vectorizer.fit(joined_String_list)\n",
    "    bagOfWords = vectorizer.transform(joined_String_list)\n",
    "    return bagOfWords\n",
    "\n",
    "dataset_bag_of_words =  lematize_words.copy()\n",
    "bag_of_words = bagOfWords(dataset_bag_of_words, CountVectorizer()) "
   ]
  },
  {
   "cell_type": "markdown",
   "metadata": {},
   "source": [
    "Above code created a bag of word representation of the dataset. CountVectorizer is used to transform the text corpora to a vector of token counts. "
   ]
  },
  {
   "cell_type": "code",
   "execution_count": 328,
   "metadata": {},
   "outputs": [
    {
     "data": {
      "image/png": "[encoded data removed]",
      "text/plain": [
       "<Figure size 432x288 with 1 Axes>"
      ]
     },
     "metadata": {
      "needs_background": "light"
     },
     "output_type": "display_data"
    }
   ],
   "source": [
    "from sklearn.cluster import KMeans\n",
    "import numpy as np\n",
    "import matplotlib.pyplot as plt\n",
    "\n",
    "#Elbow Method\n",
    "def elbow(words_vector):\n",
    "    num_cluster = [x for x in range(2,10)]\n",
    "    \n",
    "    squared_errors = []\n",
    "    for cluster in num_cluster:\n",
    "        kmeans = KMeans(n_clusters = cluster).fit(words_vector) # Train Cluster\n",
    "        squared_errors.append(kmeans.inertia_) # Appending the squared loss obtained in the list\n",
    "        \n",
    "    optimal_clusters = np.argmin(squared_errors)# As argmin return the index of minimum loss. \n",
    "    plt.plot(num_cluster, squared_errors)\n",
    "    plt.title(\"Elbow Curve to find the no. of clusters.\")\n",
    "    plt.xlabel(\"Number of clusters.\")\n",
    "    plt.ylabel(\"Squared Loss.\")\n",
    "    plt.grid(True)\n",
    "    plt.show()\n",
    "    return optimal_clusters\n",
    "\n",
    "optimal_clusters_elbow = elbow(bag_of_words)\n"
   ]
  },
  {
   "cell_type": "markdown",
   "metadata": {},
   "source": [
    "The code shown above passes previously obtained bag of words model into the elbow method to obtain the optimal number of clusters. There are three slight bendings in the graph for 5 clusters, 6 clusters and for 8 clusters. To select the optimum number of clusters between these three values, silhouette coeficient is used below."
   ]
  },
  {
   "cell_type": "code",
   "execution_count": 329,
   "metadata": {},
   "outputs": [
    {
     "name": "stdout",
     "output_type": "stream",
     "text": [
      "For clusters = 2 The average silhouette_score is : 0.44489666069392003\n",
      "For clusters = 3 The average silhouette_score is : 0.436446137370696\n",
      "For clusters = 4 The average silhouette_score is : 0.4385647411198364\n",
      "For clusters = 5 The average silhouette_score is : 0.36889266715511765\n",
      "For clusters = 6 The average silhouette_score is : 0.36951155212127007\n",
      "For clusters = 7 The average silhouette_score is : 0.37083067440732886\n",
      "For clusters = 8 The average silhouette_score is : 0.3202099751570482\n",
      "For clusters = 9 The average silhouette_score is : 0.3221278908831806\n"
     ]
    }
   ],
   "source": [
    "from sklearn.datasets import make_blobs\n",
    "from sklearn.metrics import silhouette_samples, silhouette_score\n",
    "import matplotlib.cm as cm\n",
    "\n",
    "def silhouetteCoefficient(bag_of_words):\n",
    "    X = bag_of_words.copy()\n",
    "    \n",
    "    range_n_clusters = [2, 3, 4, 5, 6, 7, 8, 9]\n",
    "    \n",
    "    for n_clusters in range_n_clusters:\n",
    "    \n",
    "        clusterer = KMeans(n_clusters=n_clusters, random_state=10)\n",
    "        cluster_labels = clusterer.fit_predict(X)\n",
    "    \n",
    "        silhouette_avg = silhouette_score(X, cluster_labels)\n",
    "        print(\"For clusters =\", n_clusters,\n",
    "              \"The average silhouette_score is :\", silhouette_avg)\n",
    "\n",
    "silhouetteCoefficient(bag_of_words)\n"
   ]
  },
  {
   "cell_type": "markdown",
   "metadata": {},
   "source": [
    "In the solhouette coeficient method above, it shows 0.36889266715511765 for 5 clusters,0.36951155212127007 for 6 clusters and 0.3202099751570482 for 8 clusters. Since the closest value to 1 between these three clusters is 0.36951155212127007, optimum number of clusters to use for K means clustering is decided as 6."
   ]
  },
  {
   "cell_type": "code",
   "execution_count": 330,
   "metadata": {},
   "outputs": [
    {
     "name": "stdout",
     "output_type": "stream",
     "text": [
      "Cluster 0 details:\n",
      "--------------------\n",
      "Key features: ['game', 'win', 'get', 'league', 'city']\n",
      "News Articles in this cluster:\n",
      "Premier League latest: Friday news from 18 clubs before final day of season - Live - BBC Sport, Premier League final-day predictions: Lawro v singer and Newcastle fan James Bay - BBC Sport, Udinese 2-1 Juventus: Surprise win denies Juve chance to seal title - BBC Sport, Manchester United 1-1 West Ham: Red Devils need point to reach Champions League - BBC Sport, Wigan Athletic relegated after 1-1 draw with Fulham - BBC Sport, Premier League final day: Golden Boot, Golden Glove, staying up and Europe - BBC Sport, West Bromwich Albion promoted to Premier League after 2-2 draw with QPR - BBC Sport, England v West Indies latest, third Test, Emirates Old Trafford - clips, radio & text - Live - BBC Sport, Liverpool lift Premier League trophy: Goals galore, explosions and a red sky - BBC Sport, Leeds United 4-0 Charlton Athletic: Addicks relegated after heavy defeat by champions - BBC Sport\n",
      "========================================\n",
      "Cluster 1 details:\n",
      "--------------------\n",
      "Key features: ['say', 'get', 'us', 'new', 'sport']\n",
      "News Articles in this cluster:\n",
      "Sudan mass grave linked to anti-Bashir coup attempt - BBC News, Behrouz Boochani: Refugee author granted asylum in New Zealand - BBC News, Watch: W Series Esports League - Suzuka - Live - BBC Sport, BBC Two - Frankie Boyle Live: Excited for You to See and Hate This, France car crash kills five children in one family - BBC News, Greta Thunberg to donate one-million-euro humanitarian prize - BBC News, Rangers sign Leon Balogun after centre-back's Wigan Athletic exit - BBC Sport, Pregnant in a pandemic - BBC News, QAnon: What is it and where did it come from? - BBC News, Apple's 2030 carbon-neutral pledge covers itself and suppliers - BBC News\n",
      "========================================\n",
      "Cluster 2 details:\n",
      "--------------------\n",
      "Key features: ['say', 'people', 'also', 'us', 'mr']\n",
      "News Articles in this cluster:\n",
      "Tokyo Olympics: Coronavirus risk raises questions over 2021 Games - BBC News, Portland protests: US federal agents 'will not retreat', Chad Wolf says - BBC News, US charges Chinese Covid-19 research 'cyber-spies' - BBC News, Singapore election: Does the political shake-up change anything? - BBC News, Leeds United defend open-top bus celebration after stay home plea - BBC News, By bike, boat and horseback: Epic coronavirus journeys home - BBC News, Harry Dunn death: US immunity rule used by Anne Sacoolas closed - BBC News, Uganda - where security forces may be more deadly than coronavirus - BBC News, St Louis couple charged for pointing guns at protesters - BBC News, Portland protests: Trump threatens to send officers to more US cities - BBC News\n",
      "========================================\n",
      "Cluster 3 details:\n",
      "--------------------\n",
      "Key features: ['say', 'case', 'state', 'new', 'coronavirus']\n",
      "News Articles in this cluster:\n",
      "Bill Gates calls the Covid-19 infection rate in the US \"deeply troubling\", July 23 coronavirus news, India coronavirus: How Kerala's Covid 'success story' came undone - BBC News, Keep teachers safe when they return to classrooms, Fauci says, Boris Johnson calls anti-vaxxers \"nuts,\" as he promotes flu vaccination program, Bill Gates addresses QAnon and says he hopes \"the conspiracy stuff dies down\", Record number of new Covid-19 cases reported to WHO over the past 24 hours, DC mayor issues 14-day quarantine for people traveling from hotspots, This Texas county orders in-person schooling to be delayed , Coronavirus: Why are Americans so angry about masks? - BBC News\n",
      "========================================\n",
      "Cluster 4 details:\n",
      "--------------------\n",
      "Key features: ['cup', 'league', 'title', 'fa', 'european']\n",
      "News Articles in this cluster:\n",
      "Liverpool: BBC Sport readers' all-time Liverpool XI revealed - BBC Sport\n",
      "========================================\n",
      "Cluster 5 details:\n",
      "--------------------\n",
      "Key features: ['mr', 'trump', 'president', 'say', 'us']\n",
      "News Articles in this cluster:\n",
      "The White House revolving door: Who's gone? - BBC News\n",
      "========================================\n"
     ]
    }
   ],
   "source": [
    "from sklearn.cluster import KMeans\n",
    "from collections import Counter\n",
    "\n",
    "count_vectorizer = CountVectorizer()\n",
    "joined_String_list = [' '.join(words) for words in dataset_bag_of_words]\n",
    "count_vectorizer.fit_transform(joined_String_list)\n",
    "feature_names = count_vectorizer.get_feature_names()\n",
    "\n",
    "# Define the k-means clustering function which will call sklearn's KMeans function\n",
    "def k_means(feature_matrix, num_clusters):\n",
    "    km = KMeans(n_clusters=num_clusters,\n",
    "                max_iter=10000)\n",
    "    km.fit(feature_matrix)\n",
    "    clusters = km.labels_\n",
    "    return km, clusters\n",
    "\n",
    "num_clusters = 6\n",
    "\n",
    "# Call the above function to get clusters and assign the cluster labels to the news articles\n",
    "km_obj, clusters = k_means(feature_matrix=bag_of_words,\n",
    "                           num_clusters=num_clusters)\n",
    "\n",
    "c = Counter(clusters)\n",
    "\n",
    "df_copy = extractedText.copy()\n",
    "\n",
    "df_copy['Cluster'] = clusters\n",
    "\n",
    "def get_cluster_data(clustering_obj, news_data, \n",
    "                     feature_names, num_clusters,\n",
    "                     topn_features=10):\n",
    "\n",
    "    cluster_details = {}  \n",
    "    # Get cluster centroids\n",
    "    ordered_centroids = clustering_obj.cluster_centers_.argsort()[:, ::-1]\n",
    "    # Get key features for each cluster\n",
    "    # Get news articles belonging to each cluster\n",
    "    for cluster_num in range(num_clusters):\n",
    "        cluster_details[cluster_num] = {}\n",
    "        cluster_details[cluster_num]['cluster_num'] = cluster_num\n",
    "        key_features = [feature_names[index] \n",
    "                        for index \n",
    "                        in ordered_centroids[cluster_num, :topn_features]]\n",
    "        cluster_details[cluster_num]['key_features'] = key_features\n",
    "        \n",
    "        article = news_data[news_data['Cluster'] == cluster_num]['Title'].values.tolist()\n",
    "        cluster_details[cluster_num]['news'] = article\n",
    "    \n",
    "    return cluster_details\n",
    "        \n",
    "def print_cluster_data(cluster_data):\n",
    "    # Print cluster details\n",
    "    for cluster_num, cluster_details in cluster_data.items():\n",
    "        print('Cluster {} details:'.format(cluster_num))\n",
    "        print('-'*20)\n",
    "        print('Key features:', cluster_details['key_features'])\n",
    "        print('News Articles in this cluster:')\n",
    "        print(', '.join(cluster_details['news'][-10:]))\n",
    "        print('='*40)\n",
    "\n",
    "# Analyse the k-means clustering data\n",
    "cluster_data =  get_cluster_data(clustering_obj=km_obj,\n",
    "                                 news_data=df_copy,\n",
    "                                 feature_names=feature_names,\n",
    "                                 num_clusters=num_clusters,\n",
    "                                 topn_features=5)         \n",
    "\n",
    "# Print the detailed clustering analysis results\n",
    "print_cluster_data(cluster_data)"
   ]
  },
  {
   "cell_type": "markdown",
   "metadata": {},
   "source": [
    "The above code displays 5 categories of clusters categorized using k means clustering. Since cluster 4 and 5 contain only one article this can't be taken as a good clustering."
   ]
  },
  {
   "cell_type": "markdown",
   "metadata": {},
   "source": [
    "### Answer (e)\n",
    "\n",
    "The below code change the input representation of articles by using tf-idf vectors, bigrams and reducing the dimentionality of the dataset. "
   ]
  },
  {
   "cell_type": "code",
   "execution_count": 331,
   "metadata": {},
   "outputs": [
    {
     "data": {
      "image/png": "[encoded data removed]",
      "text/plain": [
       "<Figure size 432x288 with 1 Axes>"
      ]
     },
     "metadata": {
      "needs_background": "light"
     },
     "output_type": "display_data"
    }
   ],
   "source": [
    "#tf-idf vectors\n",
    "df_tfidf_copy = extractedText.copy()\n",
    "\n",
    "joinedList = [' '.join(entry) for entry in lematize_words]\n",
    "\n",
    "tfidf_vectorizer,tfidt_feature_matrix = build_feature_matrix(joinedList,\n",
    "                                        feature_type='tfidf',\n",
    "                                        min_df=0.24, max_df=0.85,\n",
    "                                        ngram_range=(1, 1))\n",
    "\n",
    "elbow_tfidf = elbow(tfidt_feature_matrix)"
   ]
  },
  {
   "cell_type": "markdown",
   "metadata": {},
   "source": [
    "In the abobe elbow curve there is a slight bend at cluster 3 and 4. Therefore to find optimum number of clusters between these two clusters, tfid feature metrix is passed to silhouette Coefficient."
   ]
  },
  {
   "cell_type": "code",
   "execution_count": 332,
   "metadata": {},
   "outputs": [
    {
     "name": "stdout",
     "output_type": "stream",
     "text": [
      "For clusters = 2 The average silhouette_score is : 0.11067999096339878\n",
      "For clusters = 3 The average silhouette_score is : 0.12355556722125416\n",
      "For clusters = 4 The average silhouette_score is : 0.12591614154859826\n",
      "For clusters = 5 The average silhouette_score is : 0.13137712999267273\n",
      "For clusters = 6 The average silhouette_score is : 0.09582721591059391\n",
      "For clusters = 7 The average silhouette_score is : 0.10274841725460067\n",
      "For clusters = 8 The average silhouette_score is : 0.10732286133329219\n",
      "For clusters = 9 The average silhouette_score is : 0.11310251177442605\n"
     ]
    }
   ],
   "source": [
    "silhouette_tfidf = silhouetteCoefficient(tfidt_feature_matrix) "
   ]
  },
  {
   "cell_type": "markdown",
   "metadata": {},
   "source": [
    "silhouette score for 3 clusters is 0.12355556722125416 and for 4 clusters it is 0.12591614154859826. Since silhouette score for 4 clusters are greater, 4 is considered as the optimum number of clusters."
   ]
  },
  {
   "cell_type": "code",
   "execution_count": 333,
   "metadata": {},
   "outputs": [
    {
     "name": "stdout",
     "output_type": "stream",
     "text": [
      "Cluster 0 details:\n",
      "--------------------\n",
      "Key features: ['get', 'way', 'find', 'late', 'time', 'go', 'one', 'first', 'us', 'say']\n",
      "News Articles in this cluster:\n",
      "Liverpool lift Premier League trophy: Goals galore, explosions and a red sky - BBC Sport, Transfer rumours: Coman, Osimhen, Romero, Smalling, Bale - BBC Sport, Wigan Athletic: Administrators to negotiate with second bidder after talks break down - BBC Sport, Bob Willis Trophy: County fixtures - Essex start against Kent, Surrey meet Middlesex - BBC Sport, Eleven ATP and WTA Tour tournaments cancelled in China because of coronavirus pandemic - BBC Sport, Paris St-Germain 1-0 Saint-Etienne: PSG win French Cup despite Kylian Mbappe injury - BBC Sport, Leeds United 4-0 Charlton Athletic: Addicks relegated after heavy defeat by champions - BBC Sport, By bike, boat and horseback: Epic coronavirus journeys home - BBC News, Watch: W Series Esports League - Suzuka - Live - BBC Sport, Rangers sign Leon Balogun after centre-back's Wigan Athletic exit - BBC Sport\n",
      "========================================\n",
      "Cluster 1 details:\n",
      "--------------------\n",
      "Key features: ['say', 'people', 'us', 'government', 'also', 'would', 'new', 'coronavirus', 'state', 'get']\n",
      "News Articles in this cluster:\n",
      "Sudan mass grave linked to anti-Bashir coup attempt - BBC News, Harry Dunn death: US immunity rule used by Anne Sacoolas closed - BBC News, Uganda - where security forces may be more deadly than coronavirus - BBC News, St Louis couple charged for pointing guns at protesters - BBC News, Behrouz Boochani: Refugee author granted asylum in New Zealand - BBC News, Portland protests: Trump threatens to send officers to more US cities - BBC News, France car crash kills five children in one family - BBC News, Greta Thunberg to donate one-million-euro humanitarian prize - BBC News, QAnon: What is it and where did it come from? - BBC News, Apple's 2030 carbon-neutral pledge covers itself and suppliers - BBC News\n",
      "========================================\n",
      "Cluster 2 details:\n",
      "--------------------\n",
      "Key features: ['report', 'say', 'new', 'state', 'us', 'coronavirus', 'year', 'people', 'find', 'government']\n",
      "News Articles in this cluster:\n",
      "Another study finds hydroxychloroquine does not help Covid-19 patients - CNN, Democrats slam US intelligence official over warning about foreign interference in 2020 election  - CNNPolitics, US surpasses 4 million reported coronavirus cases as hospitalizations near record - CNN, Record number of new Covid-19 cases reported to WHO over the past 24 hours, India coronavirus: 14-year-old sexually assaulted at Delhi Covid-19 centre - BBC News, Russia report: UK 'badly underestimated' threat, says committee - BBC News, Covid-19 can be a prolonged illness, even for young adults, CDC report says  - CNN, NBA players are dedicating their post-game interviews to Breonna Taylor - CNN, In pictures: 'Wall of Moms' joins Portland's anti-racism protests - BBC News, Leslie Van Houten: Manson follower recommended for parole for fourth time - CNN\n",
      "========================================\n",
      "Cluster 3 details:\n",
      "--------------------\n",
      "Key features: ['new', 'coronavirus', 'bbc', 'us', 'one', 'state', 'find', 'world', 'day', 'country']\n",
      "News Articles in this cluster:\n",
      "Ultraviolet flash detected by astronomers after 'peculiar' supernova - CNN, McDonald's and Chipotle announce mask policies for customers   - CNN, People can stop coronavirus with these three simple acts - CNN, Walmart and others will still serve customers who refuse to wear masks, despite new rules\n",
      " - CNN, Zoom is backing away from China — and doubling down on India - CNN, A Dolly Parton-themed bar, White Limozeen, opens in Nashville | CNN Travel, Sturddlefish: Scientists created a hybrid fish that's part sturgeon, part paddlefish, all accident - CNN, BBC News reaching highest ever global audience - BBC News, BBC Two - Frankie Boyle Live: Excited for You to See and Hate This, Pregnant in a pandemic - BBC News\n",
      "========================================\n"
     ]
    }
   ],
   "source": [
    "feature_names_tfidf = tfidf_vectorizer.get_feature_names()\n",
    "\n",
    "num_clusters_tfidf = 4\n",
    "\n",
    "km_obj_tfidf, clusters_tfidf = k_means(feature_matrix=tfidt_feature_matrix,\n",
    "                           num_clusters=num_clusters_tfidf)\n",
    "\n",
    "c_tfidf = Counter(clusters_tfidf)\n",
    "\n",
    "df_tfidf_copy['Cluster'] = clusters_tfidf\n",
    "\n",
    "# Analyse the k-means clustering data\n",
    "cluster_data_tfidf =  get_cluster_data(clustering_obj=km_obj_tfidf,\n",
    "                                 news_data=df_tfidf_copy,\n",
    "                                 feature_names=feature_names_tfidf,\n",
    "                                 num_clusters=num_clusters_tfidf,\n",
    "                                 topn_features=10)        \n",
    "\n",
    "# Print the detailed clustering analysis results\n",
    "print_cluster_data(cluster_data_tfidf)"
   ]
  },
  {
   "cell_type": "markdown",
   "metadata": {},
   "source": [
    "Show above are the key features and news articles in categorized clusters."
   ]
  },
  {
   "cell_type": "code",
   "execution_count": 335,
   "metadata": {},
   "outputs": [
    {
     "data": {
      "image/png": "[encoded data removed]",
      "text/plain": [
       "<Figure size 432x288 with 1 Axes>"
      ]
     },
     "metadata": {
      "needs_background": "light"
     },
     "output_type": "display_data"
    }
   ],
   "source": [
    "df_bigram_copy = extractedText.copy()\n",
    "\n",
    "bigram_vectorizer,bigram_feature_matrix = build_feature_matrix(joinedList,\n",
    "                                        feature_type='binary',\n",
    "                                        min_df=0.0, max_df=1.0,\n",
    "                                        ngram_range=(2, 2))\n",
    "\n",
    "elbow_bigram = elbow(bigram_feature_matrix)"
   ]
  },
  {
   "cell_type": "markdown",
   "metadata": {},
   "source": [
    "The elbow curve shows bending at 3, 5 and 7 clusters for bigram feature metrix. To decide the optimum number of clusters, again bigram feature matrix is passed to get silhouette score below."
   ]
  },
  {
   "cell_type": "code",
   "execution_count": 336,
   "metadata": {},
   "outputs": [
    {
     "name": "stdout",
     "output_type": "stream",
     "text": [
      "For clusters = 2 The average silhouette_score is : 0.3822378650983515\n",
      "For clusters = 3 The average silhouette_score is : 0.3830034901614376\n",
      "For clusters = 4 The average silhouette_score is : 0.38328312022088196\n",
      "For clusters = 5 The average silhouette_score is : 0.3834012135473172\n",
      "For clusters = 6 The average silhouette_score is : 0.31209026392035405\n",
      "For clusters = 7 The average silhouette_score is : 0.31224519756477315\n",
      "For clusters = 8 The average silhouette_score is : 0.13845968580701737\n",
      "For clusters = 9 The average silhouette_score is : 0.30573947078933567\n"
     ]
    }
   ],
   "source": [
    "silhouette_bigram = silhouetteCoefficient(bigram_feature_matrix) "
   ]
  },
  {
   "cell_type": "markdown",
   "metadata": {},
   "source": [
    "Since the silhouette score for 5 clusters is greater than 3 and 7 clusters. Therefore, 5 clusters is considered as the optimum number of clusters for bigram vectorization "
   ]
  },
  {
   "cell_type": "code",
   "execution_count": 337,
   "metadata": {},
   "outputs": [
    {
     "name": "stdout",
     "output_type": "stream",
     "text": [
      "Cluster 0 details:\n",
      "--------------------\n",
      "Key features: ['clarity officer', 'feeling humiliate', 'searched feeling', 'report prompt', 'south wales', 'court hear', 'tactic police', 'search target', 'event criticism', 'police say']\n",
      "News Articles in this cluster:\n",
      "Sydney police 'asked woman to remove tampon' in strip-search - BBC News\n",
      "========================================\n",
      "Cluster 1 details:\n",
      "--------------------\n",
      "Key features: ['get fund', 'believe begin', 'disadvantage child', 'pledge fight', 'trustees staff', 'pledge excite', 'trustee bbc', 'charity project', 'need announce', 'fight racial']\n",
      "News Articles in this cluster:\n",
      "Stormzy: Children in Need matches rapper's £10m donation pledge - BBC News\n",
      "========================================\n",
      "Cluster 2 details:\n",
      "--------------------\n",
      "Key features: ['javascript well', 'bring total', 'enable javascript', 'report new', 'well experience', 'melissa macaya', 'total number', 'covid case', 'number case', 'macaya mike']\n",
      "News Articles in this cluster:\n",
      "Oregon governor expands face mask requirements, UK government to make face masks mandatory in shops in England, Global coronavirus cases surpass 13 million, \"Miami is now the epicenter of the pandemic,\" infectious-disease expert says, \"Tens of millions of vaccines\" will be \"put into American arms\" by end of year, official says, Houston mayor proposes a shutdown as city passes 30,000 Covid-19 cases , West Virginia governor closes bars in county with surge of Covid-19 cases, \"Community engagement\" will be key to getting vaccine support, Fauci says, 2 NBA players have tested positive for Covid-19 in the league's Disney bubble, Fauci is optimistic about some of the treatments in development for Covid-19\n",
      "========================================\n",
      "Cluster 3 details:\n",
      "--------------------\n",
      "Key features: ['able perform', 'say goal', 'result nation', 'virus since', 'result even', 'million dose', 'million dos', 'league orlando', 'administration desire', 'disease expert']\n",
      "News Articles in this cluster:\n",
      "Miami Beach mayor says face masks have become politicized, Surging coronavirus cases cause delay in test results by as much as 7 days, leading lab says, NFL players set to test new mouth shield prototype, July 13 coronavirus news, Wyoming governor extends public health orders through July 31, KFC encourages restaurants in 4 states to stop dine-in services, Florida governor says people should be \"diligent\" about wearing face coverings\n",
      "========================================\n",
      "Cluster 4 details:\n",
      "--------------------\n",
      "Key features: ['extreme heat', 'happen body', 'wrongwhat happen', 'body extreme', 'song wrongwhat', 'get song', 'bbc soundssign', 'soundssign newsletter', 'return bbc', 'government also']\n",
      "News Articles in this cluster:\n",
      "Behrouz Boochani: Refugee author granted asylum in New Zealand - BBC News, Watch: W Series Esports League - Suzuka - Live - BBC Sport, BBC Two - Frankie Boyle Live: Excited for You to See and Hate This, Portland protests: Trump threatens to send officers to more US cities - BBC News, France car crash kills five children in one family - BBC News, Greta Thunberg to donate one-million-euro humanitarian prize - BBC News, Rangers sign Leon Balogun after centre-back's Wigan Athletic exit - BBC Sport, Pregnant in a pandemic - BBC News, QAnon: What is it and where did it come from? - BBC News, Apple's 2030 carbon-neutral pledge covers itself and suppliers - BBC News\n",
      "========================================\n"
     ]
    }
   ],
   "source": [
    "feature_names_bigram = bigram_vectorizer.get_feature_names()\n",
    "\n",
    "num_clusters_bigram = 5\n",
    "\n",
    "km_obj_bigram, clusters_bigram = k_means(feature_matrix=bigram_feature_matrix,\n",
    "                           num_clusters=num_clusters_bigram)\n",
    "\n",
    "c_bigram = Counter(clusters_bigram)\n",
    "\n",
    "df_bigram_copy['Cluster'] = clusters_bigram\n",
    "\n",
    "# Analyse the k-means clustering data\n",
    "cluster_data_bigram =  get_cluster_data(clustering_obj=km_obj_bigram,\n",
    "                                 news_data=df_bigram_copy,\n",
    "                                 feature_names=feature_names_bigram,\n",
    "                                 num_clusters=num_clusters_bigram,\n",
    "                                 topn_features=10)         \n",
    "\n",
    "# Print the detailed clustering analysis results\n",
    "print_cluster_data(cluster_data_bigram)"
   ]
  },
  {
   "cell_type": "markdown",
   "metadata": {},
   "source": [
    "Show above are the key features and news articles in categorized clusters for bigram vectorization."
   ]
  },
  {
   "cell_type": "code",
   "execution_count": 338,
   "metadata": {},
   "outputs": [
    {
     "data": {
      "image/png": "[encoded data removed]",
      "text/plain": [
       "<Figure size 432x288 with 1 Axes>"
      ]
     },
     "metadata": {
      "needs_background": "light"
     },
     "output_type": "display_data"
    }
   ],
   "source": [
    "#Truncated Value decomposition\n",
    "from sklearn.decomposition import TruncatedSVD\n",
    "\n",
    "svd = TruncatedSVD()\n",
    "svd_reduced = svd.fit_transform(tfidt_feature_matrix)\n",
    "\n",
    "elbow_reduced = elbow(svd_reduced)"
   ]
  },
  {
   "cell_type": "markdown",
   "metadata": {},
   "source": [
    "In the above diagram, tfidf feature matrix is passed to Truncaded SVD to reduce dimentionality of the dataset. By passing dimentinally reduced feature matrix to elbow methd, it shows bendings at cluster 3 and 4. Therefore to obtain the optimum number of clusters, again dimentinally reduced feature matrix is passed to calculate silhouette coeficient below."
   ]
  },
  {
   "cell_type": "code",
   "execution_count": 339,
   "metadata": {},
   "outputs": [
    {
     "name": "stdout",
     "output_type": "stream",
     "text": [
      "For clusters = 2 The average silhouette_score is : 0.4852460246137637\n",
      "For clusters = 3 The average silhouette_score is : 0.5534358661362354\n",
      "For clusters = 4 The average silhouette_score is : 0.45557839144203954\n",
      "For clusters = 5 The average silhouette_score is : 0.44649353251656326\n",
      "For clusters = 6 The average silhouette_score is : 0.39858599304995435\n",
      "For clusters = 7 The average silhouette_score is : 0.4190270957801518\n",
      "For clusters = 8 The average silhouette_score is : 0.40158667398552284\n",
      "For clusters = 9 The average silhouette_score is : 0.4255483853442906\n"
     ]
    }
   ],
   "source": [
    "silhouette_reduced = silhouetteCoefficient(svd_reduced) "
   ]
  },
  {
   "cell_type": "markdown",
   "metadata": {},
   "source": [
    "The silhouette score for 3 clusters is 0.5534358661362354 and silhouette score for 4 clusters is 0.45557839144203954. Since the silhouette score for 3 clusters is greater, optimum number of clusters are considered as 3."
   ]
  },
  {
   "cell_type": "code",
   "execution_count": 340,
   "metadata": {},
   "outputs": [
    {
     "name": "stdout",
     "output_type": "stream",
     "text": [
      "Cluster 0 details:\n",
      "--------------------\n",
      "Key features: ['also', 'back']\n",
      "News Articles in this cluster:\n",
      "Harry Dunn death: US immunity rule used by Anne Sacoolas closed - BBC News, Uganda - where security forces may be more deadly than coronavirus - BBC News, St Louis couple charged for pointing guns at protesters - BBC News, Behrouz Boochani: Refugee author granted asylum in New Zealand - BBC News, Portland protests: Trump threatens to send officers to more US cities - BBC News, France car crash kills five children in one family - BBC News, Greta Thunberg to donate one-million-euro humanitarian prize - BBC News, Rangers sign Leon Balogun after centre-back's Wigan Athletic exit - BBC Sport, QAnon: What is it and where did it come from? - BBC News, Apple's 2030 carbon-neutral pledge covers itself and suppliers - BBC News\n",
      "========================================\n",
      "Cluster 1 details:\n",
      "--------------------\n",
      "Key features: ['back', 'also']\n",
      "News Articles in this cluster:\n",
      "Another study finds hydroxychloroquine does not help Covid-19 patients - CNN, Democrats slam US intelligence official over warning about foreign interference in 2020 election  - CNNPolitics, US surpasses 4 million reported coronavirus cases as hospitalizations near record - CNN, Record number of new Covid-19 cases reported to WHO over the past 24 hours, India coronavirus: 14-year-old sexually assaulted at Delhi Covid-19 centre - BBC News, Russia report: UK 'badly underestimated' threat, says committee - BBC News, Covid-19 can be a prolonged illness, even for young adults, CDC report says  - CNN, NBA players are dedicating their post-game interviews to Breonna Taylor - CNN, In pictures: 'Wall of Moms' joins Portland's anti-racism protests - BBC News, Leslie Van Houten: Manson follower recommended for parole for fourth time - CNN\n",
      "========================================\n",
      "Cluster 2 details:\n",
      "--------------------\n",
      "Key features: ['also', 'back']\n",
      "News Articles in this cluster:\n",
      "People can stop coronavirus with these three simple acts - CNN, Walmart and others will still serve customers who refuse to wear masks, despite new rules\n",
      " - CNN, Eleven ATP and WTA Tour tournaments cancelled in China because of coronavirus pandemic - BBC Sport, Zoom is backing away from China — and doubling down on India - CNN, Liverpool 5-3 Chelsea: Jurgen Klopp 'couldn't be more proud' after Reds lift trophy - BBC Sport, A Dolly Parton-themed bar, White Limozeen, opens in Nashville | CNN Travel, Sturddlefish: Scientists created a hybrid fish that's part sturgeon, part paddlefish, all accident - CNN, Watch: W Series Esports League - Suzuka - Live - BBC Sport, BBC Two - Frankie Boyle Live: Excited for You to See and Hate This, Pregnant in a pandemic - BBC News\n",
      "========================================\n"
     ]
    }
   ],
   "source": [
    "feature_names_svd = tfidf_vectorizer.get_feature_names()\n",
    "\n",
    "num_clusters_svd = 3\n",
    "\n",
    "km_obj_svd, clusters_svd = k_means(feature_matrix=svd_reduced,\n",
    "                           num_clusters=num_clusters_svd)\n",
    "\n",
    "c_svd = Counter(clusters_svd)\n",
    "\n",
    "df_svd_copy = extractedText.copy()\n",
    "df_svd_copy['Cluster'] = clusters_svd\n",
    "\n",
    "# Analyse the k-means clustering data\n",
    "cluster_data_svd =  get_cluster_data(clustering_obj=km_obj_svd,\n",
    "                                 news_data=df_svd_copy,\n",
    "                                 feature_names=feature_names_svd,\n",
    "                                 num_clusters=num_clusters_svd,\n",
    "                                 topn_features=10)         \n",
    "\n",
    "# Print the detailed clustering analysis results\n",
    "print_cluster_data(cluster_data_svd)"
   ]
  },
  {
   "cell_type": "markdown",
   "metadata": {},
   "source": [
    "The above code shows the cluster categorization of the dataset after reducing the dimentionality of tfidf feature matrix. This is categorized into 3 clusters but the key feature representation of the data is not accurate as it shows 'also', 'back' as key features for every cluster."
   ]
  },
  {
   "cell_type": "markdown",
   "metadata": {},
   "source": [
    "When the vectorizer is created using tfidf, after comparing with elbow and silhouette coeficient, 4 clusters was taken as the pitimum number of clusters. By evaluating key features and the articles included in each clusters, it can be seen that several news articles of same type are categorized in to the same cluster. This clusterization using tfidf unigram vector shows a better clusterization that the clusterization from counter vector since in some clusters of counter vector categorization, there are two clusters which contains only one news article.\n",
    "\n",
    "When the vectorization is done using bigrams, after considering silhouette and elbow methods, it was consitered 5 clusters as optimum number of clusters. After clustering using k means clustering, There is only one new article categorixed for cluster 0 and cluster 1. Therefore this can't be considered as a good clustering for this dataset.\n",
    "\n",
    "To reduce the dimentionality of the dataset Truncated Singular value deposition is used and tfidf unigram feature matrix is passed to reduce the dimentions as it displayed somewhat accurate clustering than bigram clustering. After comparing silhouette and elbow methods, optimum number of clusters is considered as 3. After clustering the dataset in to 3 clusters using k means clustering, it shows 'also', 'back' as feature names for every cluster. Therefore it is difficult to identify the clusters seperately. \n",
    "\n",
    "By considering all the above methods and their outputs, tfidf unigram vectorizer gives somewhat accurate categorization of clusters than other vectorization methods. Therefore the optimum number of clusters is taken as 4 as in it gives much more accurate categorization of news articles."
   ]
  },
  {
   "cell_type": "markdown",
   "metadata": {},
   "source": [
    "### Answer (f)\n",
    "\n",
    "At part (e), tfidf unigram vectorizer method gave much crisp clusters than other 3 methods. Therefore from the clusters obtained by the tfidf vectorizar there are 4 seperate clusters. Those 4 clusters can be categorized into 4 different categories of news and label them.\n",
    "\n",
    "From the above mentioned clustering, cluster 0 of the tfidf vectorizer clusteing contains lots of sports related articles. Most news articles extracted from BBC sport falls under this category. Therefor this cluster 0 can be labelled as sports cluster.\n",
    "\n",
    "When the key feature of cluster 1 is considered, it contains key features such as \"people\", \"government\", \"state\" and also that cluster contains news articles related to politics. Therefore cluster 1 can be labelled as political cluster.\n",
    "\n",
    "cluster 2 has more news articles related to corona virus and other health related news. Therefore cluster 2 can be labelled as health.\n",
    "\n",
    "Key features in cluster 3 contains key words such as \"world\", \"country\" and it contains miscellaneous news articles from around the world about different news types therefore cluster 3 can be named as world. \n",
    "\n",
    "After labelling these 4 clusters, by iterating through the data frame created at the begining news articles can be categorized into the labelled clusters mentioned above. "
   ]
  },
  {
   "cell_type": "code",
   "execution_count": 351,
   "metadata": {},
   "outputs": [],
   "source": [
    "# We also define a simple function to print the data we extracted with the above function\n",
    "cluster_0 = []\n",
    "cluster_1 = []\n",
    "cluster_2 = []\n",
    "cluster_3 = []\n",
    "\n",
    "def categorize_cluster_data(cluster_data):\n",
    "    for cluster_num, cluster_details in cluster_data.items():\n",
    "        global cluster_0\n",
    "        global cluster_1\n",
    "        global cluster_2\n",
    "        global cluster_3\n",
    "        if cluster_num == 0:\n",
    "            cluster_0 = cluster_details['news']\n",
    "        if cluster_num == 1:\n",
    "            cluster_1 = cluster_details['news']\n",
    "        if cluster_num == 2:\n",
    "            cluster_2 = cluster_details['news']\n",
    "        if cluster_num == 3:\n",
    "            cluster_3 = cluster_details['news']\n",
    "                            \n",
    "def get_cluster_titles(title):\n",
    "    if(title in cluster_0):\n",
    "        return \"Sports\"\n",
    "    if(title in cluster_1):\n",
    "        return \"Politics\"\n",
    "    if(title in cluster_2):\n",
    "        return \"Health\"\n",
    "    if(title in cluster_3):\n",
    "        return \"World\"\n",
    "\n",
    "articles_to_write = []\n",
    "def label_clusters(joinedList):\n",
    "    for data in joinedList:\n",
    "        article = []\n",
    "        title = data[0]\n",
    "        body = data[2]\n",
    "        cluster_title = get_cluster_titles(title)\n",
    "        article.append(title)\n",
    "        article.append(body)\n",
    "        article.append(cluster_title)\n",
    "        articles_to_write.append(article)\n",
    "\n",
    "categorize_cluster_data(cluster_data_tfidf)\n",
    "\n",
    "news_df =  extractedText.copy()\n",
    "news_df[2] = pd.Series(joinedList, index=news_df.index)\n",
    "ClusterList = news_df.to_numpy()\n",
    "\n",
    "label_clusters(ClusterList)\n",
    "\n",
    "path = \"C:\\\\Users\\\\User\\\\Desktop\\\\Coursework_20200083\\\\clusterData.csv\"\n",
    "clusterDf = pd.DataFrame(articles_to_write, columns = ['Title', 'Body', 'Cluster Label'])\n",
    "clusterDf.to_csv(path, sep=',', encoding='utf-8')"
   ]
  },
  {
   "cell_type": "markdown",
   "metadata": {},
   "source": [
    "The above code catogorize clusters into the categorized mentioned above and then iterating the titles of the data frame created with the cleaned data body. Then by checking the title with releavent cluster label, title, body and cluster label is written to a sepearate array. This array is converted to a dataframe and clustered data is finally written to a seperate csv file"
   ]
  },
  {
   "cell_type": "markdown",
   "metadata": {},
   "source": [
    "### Comparative Study Report\n",
    "\n",
    "Given below is the CNN and RNN comparison using the clustered dataset."
   ]
  },
  {
   "cell_type": "code",
   "execution_count": 1,
   "metadata": {},
   "outputs": [
    {
     "data": {
      "text/plain": [
       "<matplotlib.axes._subplots.AxesSubplot at 0x221006b6f88>"
      ]
     },
     "execution_count": 1,
     "metadata": {},
     "output_type": "execute_result"
    },
    {
     "data": {
      "image/png": "[encoded data removed]",
      "text/plain": [
       "<Figure size 432x288 with 1 Axes>"
      ]
     },
     "metadata": {
      "needs_background": "light"
     },
     "output_type": "display_data"
    }
   ],
   "source": [
    "from numpy import array\n",
    "from tensorflow.keras.preprocessing.sequence import pad_sequences\n",
    "from tensorflow.keras.models import Sequential\n",
    "from tensorflow.keras import layers\n",
    "from tensorflow.keras.models import Model\n",
    "from tensorflow.keras.layers import Embedding\n",
    "from sklearn.model_selection import train_test_split\n",
    "from tensorflow.keras.preprocessing.text import Tokenizer\n",
    "from tensorflow.keras.layers import Input\n",
    "\n",
    "import pandas as pd\n",
    "import re\n",
    "\n",
    "clusteredData = pd.read_csv(\"C:\\\\Users\\\\User\\\\Desktop\\\\Coursework_20200083\\\\clusterData.csv\")\n",
    "\n",
    "import seaborn as sns\n",
    "\n",
    "sns.countplot(x='Cluster Label', data=clusteredData)"
   ]
  },
  {
   "cell_type": "code",
   "execution_count": 2,
   "metadata": {},
   "outputs": [],
   "source": [
    "X = clusteredData['Body']\n",
    "y = clusteredData['Cluster Label']"
   ]
  },
  {
   "cell_type": "code",
   "execution_count": 3,
   "metadata": {},
   "outputs": [],
   "source": [
    "from sklearn import preprocessing\n",
    "\n",
    "label_encoder = preprocessing.LabelEncoder()\n",
    "\n",
    "y = label_encoder.fit_transform(y)"
   ]
  },
  {
   "cell_type": "code",
   "execution_count": 4,
   "metadata": {},
   "outputs": [],
   "source": [
    "X_train, X_test, y_train, y_test = train_test_split(X, y, test_size=0.20, random_state=42)"
   ]
  },
  {
   "cell_type": "code",
   "execution_count": 5,
   "metadata": {},
   "outputs": [],
   "source": [
    "from keras.utils import to_categorical\n",
    "y_train = to_categorical(y_train)\n",
    "y_test = to_categorical(y_test)"
   ]
  },
  {
   "cell_type": "code",
   "execution_count": 6,
   "metadata": {},
   "outputs": [],
   "source": [
    "tokenizer = Tokenizer(num_words=5000)\n",
    "tokenizer.fit_on_texts(X_train)\n",
    "\n",
    "X_train = tokenizer.texts_to_sequences(X_train)\n",
    "X_test = tokenizer.texts_to_sequences(X_test)"
   ]
  },
  {
   "cell_type": "code",
   "execution_count": 7,
   "metadata": {},
   "outputs": [],
   "source": [
    "vocab_size = len(tokenizer.word_index) + 1\n",
    "\n",
    "maxlen = 200\n",
    "\n",
    "X_train = pad_sequences(X_train, padding='post', maxlen=maxlen)\n",
    "X_test = pad_sequences(X_test, padding='post', maxlen=maxlen)"
   ]
  },
  {
   "cell_type": "code",
   "execution_count": 8,
   "metadata": {},
   "outputs": [],
   "source": [
    "from numpy import asarray\n",
    "from numpy import zeros\n",
    "\n",
    "glove_file = open(\"C:\\\\Users\\\\User\\\\Desktop\\\\Coursework_20200083\\\\glove.6B.100d.txt\", encoding=\"utf8\")\n",
    "embeddings_dictionary = dict()\n",
    "\n",
    "for line in glove_file:\n",
    "    records = line.split()\n",
    "    word = records[0]\n",
    "    vector_dimensions = asarray(records[1:], dtype='float32')\n",
    "    embeddings_dictionary [word] = vector_dimensions\n",
    "\n",
    "glove_file.close()"
   ]
  },
  {
   "cell_type": "code",
   "execution_count": 9,
   "metadata": {},
   "outputs": [],
   "source": [
    "embedding_matrix = zeros((vocab_size, 100))\n",
    "for word, index in tokenizer.word_index.items():\n",
    "    embedding_vector = embeddings_dictionary.get(word)\n",
    "    if embedding_vector is not None:\n",
    "        embedding_matrix[index] = embedding_vector"
   ]
  },
  {
   "cell_type": "code",
   "execution_count": 11,
   "metadata": {},
   "outputs": [],
   "source": [
    "#For Recurrent Neural Network (RNN)\n",
    "deep_inputs = Input(shape=(maxlen,))\n",
    "embedding_layer = Embedding(vocab_size, 100, weights=[embedding_matrix], trainable=False)(deep_inputs)\n",
    "LSTM_Layer_1 = layers.LSTM(128)(embedding_layer)\n",
    "dense_layer_1 = layers.Dense(4, activation='softmax')(LSTM_Layer_1)\n",
    "model = Model(inputs=deep_inputs, outputs=dense_layer_1)\n",
    "\n",
    "model.compile(loss='categorical_crossentropy', optimizer='adam', metrics=['acc'])"
   ]
  },
  {
   "cell_type": "code",
   "execution_count": 12,
   "metadata": {},
   "outputs": [
    {
     "name": "stdout",
     "output_type": "stream",
     "text": [
      "Model: \"functional_3\"\n",
      "_________________________________________________________________\n",
      "Layer (type)                 Output Shape              Param #   \n",
      "=================================================================\n",
      "input_2 (InputLayer)         [(None, 200)]             0         \n",
      "_________________________________________________________________\n",
      "embedding_1 (Embedding)      (None, 200, 100)          2144300   \n",
      "_________________________________________________________________\n",
      "lstm_1 (LSTM)                (None, 128)               117248    \n",
      "_________________________________________________________________\n",
      "dense_1 (Dense)              (None, 4)                 516       \n",
      "=================================================================\n",
      "Total params: 2,262,064\n",
      "Trainable params: 117,764\n",
      "Non-trainable params: 2,144,300\n",
      "_________________________________________________________________\n",
      "None\n"
     ]
    }
   ],
   "source": [
    "print(model.summary())"
   ]
  },
  {
   "cell_type": "code",
   "execution_count": 13,
   "metadata": {},
   "outputs": [
    {
     "name": "stdout",
     "output_type": "stream",
     "text": [
      "Epoch 1/10\n",
      "9/9 [==============================] - 4s 417ms/step - loss: 1.1631 - acc: 0.4719 - val_loss: 1.0589 - val_acc: 0.6985\n",
      "Epoch 2/10\n",
      "9/9 [==============================] - 3s 362ms/step - loss: 0.9466 - acc: 0.6854 - val_loss: 0.8197 - val_acc: 0.7426\n",
      "Epoch 3/10\n",
      "9/9 [==============================] - 3s 367ms/step - loss: 0.8728 - acc: 0.6918 - val_loss: 0.8978 - val_acc: 0.6875\n",
      "Epoch 4/10\n",
      "9/9 [==============================] - 3s 377ms/step - loss: 0.8530 - acc: 0.6863 - val_loss: 0.8972 - val_acc: 0.6765\n",
      "Epoch 5/10\n",
      "9/9 [==============================] - 4s 396ms/step - loss: 0.8521 - acc: 0.6835 - val_loss: 0.9011 - val_acc: 0.6801\n",
      "Epoch 6/10\n",
      "9/9 [==============================] - 3s 369ms/step - loss: 0.8458 - acc: 0.6863 - val_loss: 0.8808 - val_acc: 0.7022\n",
      "Epoch 7/10\n",
      "9/9 [==============================] - 3s 382ms/step - loss: 0.8261 - acc: 0.6927 - val_loss: 0.8609 - val_acc: 0.7132\n",
      "Epoch 8/10\n",
      "9/9 [==============================] - 4s 407ms/step - loss: 0.7968 - acc: 0.7056 - val_loss: 0.7905 - val_acc: 0.7574\n",
      "Epoch 9/10\n",
      "9/9 [==============================] - 3s 386ms/step - loss: 0.7786 - acc: 0.7286 - val_loss: 0.8495 - val_acc: 0.7279\n",
      "Epoch 10/10\n",
      "9/9 [==============================] - 4s 420ms/step - loss: 0.8328 - acc: 0.6863 - val_loss: 0.8947 - val_acc: 0.7096\n"
     ]
    }
   ],
   "source": [
    "history = model.fit(X_train, y_train, batch_size=128, epochs=10, verbose=1, validation_split=0.2)"
   ]
  },
  {
   "cell_type": "code",
   "execution_count": 14,
   "metadata": {},
   "outputs": [
    {
     "name": "stdout",
     "output_type": "stream",
     "text": [
      "11/11 [==============================] - 1s 56ms/step - loss: 0.8305 - acc: 0.6912\n",
      "Test Score: 0.8305294513702393\n",
      "Test Accuracy: 0.6911764740943909\n"
     ]
    }
   ],
   "source": [
    "score = model.evaluate(X_test, y_test, verbose=1)\n",
    "\n",
    "print(\"Test Score:\", score[0])\n",
    "print(\"Test Accuracy:\", score[1])"
   ]
  },
  {
   "cell_type": "code",
   "execution_count": 15,
   "metadata": {},
   "outputs": [
    {
     "data": {
      "image/png": "[encoded data removed]",
      "text/plain": [
       "<Figure size 432x288 with 1 Axes>"
      ]
     },
     "metadata": {
      "needs_background": "light"
     },
     "output_type": "display_data"
    },
    {
     "data": {
      "image/png": "[encoded data removed]",
      "text/plain": [
       "<Figure size 432x288 with 1 Axes>"
      ]
     },
     "metadata": {
      "needs_background": "light"
     },
     "output_type": "display_data"
    }
   ],
   "source": [
    "import matplotlib.pyplot as plt\n",
    "\n",
    "plt.plot(history.history['acc'])\n",
    "plt.plot(history.history['val_acc'])\n",
    "\n",
    "plt.title('model accuracy')\n",
    "plt.ylabel('accuracy')\n",
    "plt.xlabel('epoch')\n",
    "plt.legend(['train','test'], loc='upper left')\n",
    "plt.show()\n",
    "\n",
    "plt.plot(history.history['loss'])\n",
    "plt.plot(history.history['val_loss'])\n",
    "\n",
    "plt.title('model loss')\n",
    "plt.ylabel('loss')\n",
    "plt.xlabel('epoch')\n",
    "plt.legend(['train','test'], loc='upper left')\n",
    "plt.show()"
   ]
  },
  {
   "cell_type": "code",
   "execution_count": 16,
   "metadata": {},
   "outputs": [],
   "source": [
    "#For Convolution Neural Network (CNN)\n",
    "model_cnn = Sequential()\n",
    "model_cnn.add(Embedding(vocab_size, 100, input_length=maxlen))\n",
    "\n",
    "model_cnn.add(layers.Conv1D(filters=128, kernel_size=3, padding='same', activation='relu'))\n",
    "model_cnn.add(layers.MaxPooling1D(pool_size=2))\n",
    "model_cnn.add(layers.Flatten())\n",
    "model_cnn.add(layers.Dense(250, activation='relu'))\n",
    "\n",
    "model_cnn.add(layers.Dense(4, activation='softmax'))\n",
    "model_cnn.compile(loss='categorical_crossentropy', optimizer='adam', metrics=['acc'])"
   ]
  },
  {
   "cell_type": "code",
   "execution_count": 17,
   "metadata": {},
   "outputs": [
    {
     "name": "stdout",
     "output_type": "stream",
     "text": [
      "Model: \"sequential\"\n",
      "_________________________________________________________________\n",
      "Layer (type)                 Output Shape              Param #   \n",
      "=================================================================\n",
      "embedding_2 (Embedding)      (None, 200, 100)          2144300   \n",
      "_________________________________________________________________\n",
      "conv1d (Conv1D)              (None, 200, 128)          38528     \n",
      "_________________________________________________________________\n",
      "max_pooling1d (MaxPooling1D) (None, 100, 128)          0         \n",
      "_________________________________________________________________\n",
      "flatten (Flatten)            (None, 12800)             0         \n",
      "_________________________________________________________________\n",
      "dense_2 (Dense)              (None, 250)               3200250   \n",
      "_________________________________________________________________\n",
      "dense_3 (Dense)              (None, 4)                 1004      \n",
      "=================================================================\n",
      "Total params: 5,384,082\n",
      "Trainable params: 5,384,082\n",
      "Non-trainable params: 0\n",
      "_________________________________________________________________\n",
      "None\n"
     ]
    }
   ],
   "source": [
    "print(model_cnn.summary())"
   ]
  },
  {
   "cell_type": "code",
   "execution_count": 18,
   "metadata": {},
   "outputs": [
    {
     "name": "stdout",
     "output_type": "stream",
     "text": [
      "Epoch 1/10\n",
      "9/9 [==============================] - 2s 181ms/step - loss: 0.9991 - acc: 0.5851 - val_loss: 0.8073 - val_acc: 0.7426\n",
      "Epoch 2/10\n",
      "9/9 [==============================] - 1s 164ms/step - loss: 0.7617 - acc: 0.7167 - val_loss: 0.7011 - val_acc: 0.7574\n",
      "Epoch 3/10\n",
      "9/9 [==============================] - 1s 160ms/step - loss: 0.6177 - acc: 0.7792 - val_loss: 0.6443 - val_acc: 0.7794\n",
      "Epoch 4/10\n",
      "9/9 [==============================] - 1s 164ms/step - loss: 0.4753 - acc: 0.8270 - val_loss: 0.6219 - val_acc: 0.8051\n",
      "Epoch 5/10\n",
      "9/9 [==============================] - 2s 168ms/step - loss: 0.3443 - acc: 0.8868 - val_loss: 0.6023 - val_acc: 0.8309\n",
      "Epoch 6/10\n",
      "9/9 [==============================] - 2s 177ms/step - loss: 0.2293 - acc: 0.9292 - val_loss: 0.5285 - val_acc: 0.8603\n",
      "Epoch 7/10\n",
      "9/9 [==============================] - 1s 163ms/step - loss: 0.1502 - acc: 0.9402 - val_loss: 0.6281 - val_acc: 0.8750\n",
      "Epoch 8/10\n",
      "9/9 [==============================] - 1s 161ms/step - loss: 0.0944 - acc: 0.9678 - val_loss: 0.5948 - val_acc: 0.8640\n",
      "Epoch 9/10\n",
      "9/9 [==============================] - 2s 175ms/step - loss: 0.0598 - acc: 0.9908 - val_loss: 0.6437 - val_acc: 0.8713\n",
      "Epoch 10/10\n",
      "9/9 [==============================] - 2s 193ms/step - loss: 0.0366 - acc: 0.9945 - val_loss: 0.6259 - val_acc: 0.8713\n"
     ]
    }
   ],
   "source": [
    "history = model_cnn.fit(X_train, y_train, batch_size=128, epochs=10, verbose=1, validation_split=0.2)"
   ]
  },
  {
   "cell_type": "code",
   "execution_count": 19,
   "metadata": {},
   "outputs": [
    {
     "name": "stdout",
     "output_type": "stream",
     "text": [
      "11/11 [==============================] - 0s 14ms/step - loss: 0.4144 - acc: 0.8971\n",
      "Test Score: 0.41437023878097534\n",
      "Test Accuracy: 0.8970588445663452\n"
     ]
    }
   ],
   "source": [
    "score = model_cnn.evaluate(X_test, y_test, verbose=1)\n",
    "\n",
    "print(\"Test Score:\", score[0])\n",
    "print(\"Test Accuracy:\", score[1])"
   ]
  },
  {
   "cell_type": "code",
   "execution_count": 20,
   "metadata": {},
   "outputs": [
    {
     "data": {
      "image/png": "[encoded data removed]",
      "text/plain": [
       "<Figure size 432x288 with 1 Axes>"
      ]
     },
     "metadata": {
      "needs_background": "light"
     },
     "output_type": "display_data"
    },
    {
     "data": {
      "image/png": "[encoded data removed]",
      "text/plain": [
       "<Figure size 432x288 with 1 Axes>"
      ]
     },
     "metadata": {
      "needs_background": "light"
     },
     "output_type": "display_data"
    }
   ],
   "source": [
    "import matplotlib.pyplot as plt\n",
    "\n",
    "plt.plot(history.history['acc'])\n",
    "plt.plot(history.history['val_acc'])\n",
    "\n",
    "plt.title('model accuracy')\n",
    "plt.ylabel('accuracy')\n",
    "plt.xlabel('epoch')\n",
    "plt.legend(['train','test'], loc='upper left')\n",
    "plt.show()\n",
    "\n",
    "plt.plot(history.history['loss'])\n",
    "plt.plot(history.history['val_loss'])\n",
    "\n",
    "plt.title('model loss')\n",
    "plt.ylabel('loss')\n",
    "plt.xlabel('epoch')\n",
    "plt.legend(['train','test'], loc='upper left')\n",
    "plt.show()"
   ]
  },
  {
   "cell_type": "markdown",
   "metadata": {},
   "source": [
    "By looking at loss and accuracy values for training and test sets for RNN and CNN, It can be seen that both model accuracy and model loss curves are closer to each other in RNN than in CNN. Therefore it can be concluded RNN model is better than the CNN model."
   ]
  },
  {
   "cell_type": "code",
   "execution_count": null,
   "metadata": {},
   "outputs": [],
   "source": []
  }
 ],
 "metadata": {
  "kernelspec": {
   "display_name": "Python 3",
   "language": "python",
   "name": "python3"
  },
  "language_info": {
   "codemirror_mode": {
    "name": "ipython",
    "version": 3
   },
   "file_extension": ".py",
   "mimetype": "text/x-python",
   "name": "python",
   "nbconvert_exporter": "python",
   "pygments_lexer": "ipython3",
   "version": "3.8.3"
  }
 },
 "nbformat": 4,
 "nbformat_minor": 2
}
